{
 "cells": [
  {
   "cell_type": "markdown",
   "metadata": {},
   "source": [
    "### Postprocess vocab encoders from pretraning\n",
    "\n",
    "Add additional tokens: CLS and PAD."
   ]
  },
  {
   "cell_type": "code",
   "execution_count": 1,
   "metadata": {},
   "outputs": [],
   "source": [
    "import os\n",
    "import pickle\n",
    "from typing import Dict\n",
    "\n",
    "from smart_open import open\n",
    "\n",
    "from common import S3_OUTPUT_PREFIX\n"
   ]
  },
  {
   "cell_type": "code",
   "execution_count": 2,
   "metadata": {},
   "outputs": [],
   "source": [
    "def load_vocab(filename: str) -> Dict[str, int]:\n",
    "    \"\"\"Load vocab encoder.\"\"\"\n",
    "    s3_vocab_path = os.path.join(\n",
    "        S3_OUTPUT_PREFIX, \"output\", \"pretrain\", \"encoders\", filename\n",
    "    )\n",
    "    with open(s3_vocab_path, \"rb\") as f:\n",
    "        vocab = pickle.load(f)\n",
    "\n",
    "    return vocab\n",
    "\n",
    "\n",
    "def save_vocab(vocab: Dict[str, int], filename: str):\n",
    "    \"\"\"Save vocab encoder\"\"\"\n",
    "    s3_save_path = os.path.join(\n",
    "        S3_OUTPUT_PREFIX, \"output\", \"pretrain\", \"encoders\", filename\n",
    "    )\n",
    "    with open(s3_save_path, \"wb\") as f:\n",
    "        pickle.dump(vocab, f, protocol=pickle.HIGHEST_PROTOCOL)\n"
   ]
  },
  {
   "cell_type": "code",
   "execution_count": 3,
   "metadata": {},
   "outputs": [],
   "source": [
    "# Load feature vocab\n",
    "feature_vocab = load_vocab(\"feature_vocab.pickle\")\n",
    "\n",
    "# Add CLS and PAD feature token encodings\n",
    "feature_vocab[\"CLS\"] = max(feature_vocab.values()) + 1\n",
    "feature_vocab[\"PAD\"] = feature_vocab[\"CLS\"] + 1\n",
    "feature_vocab[\"MASK\"] = feature_vocab[\"PAD\"] + 1\n",
    "\n",
    "# Save to new file in S3\n",
    "save_vocab(feature_vocab, \"feature_vocab_with_cls_pad_mask.pickle\")\n"
   ]
  },
  {
   "cell_type": "code",
   "execution_count": 4,
   "metadata": {},
   "outputs": [],
   "source": [
    "# Load time vocab\n",
    "time_vocab = load_vocab(\"time_vocab.pickle\")\n",
    "\n",
    "# Add PAD time token encoding\n",
    "time_vocab[\"PAD\"] = max(time_vocab.values()) + 1\n",
    "\n",
    "# Save to new file in S3\n",
    "save_vocab(time_vocab, \"time_vocab_with_pad.pickle\")\n"
   ]
  },
  {
   "cell_type": "code",
   "execution_count": 5,
   "metadata": {},
   "outputs": [],
   "source": [
    "# Load time vocab\n",
    "type_vocab = load_vocab(\"type_vocab.pickle\")\n",
    "\n",
    "# Add PAD code type token encoding\n",
    "type_vocab[\"PAD\"] = max(type_vocab.values()) + 1\n",
    "\n",
    "# Save to new file in S3\n",
    "save_vocab(type_vocab, \"type_vocab_with_pad.pickle\")\n"
   ]
  }
 ],
 "metadata": {
  "kernelspec": {
   "display_name": "Python 3.5.2 64-bit",
   "language": "python",
   "name": "python3"
  },
  "language_info": {
   "codemirror_mode": {
    "name": "ipython",
    "version": 3
   },
   "file_extension": ".py",
   "mimetype": "text/x-python",
   "name": "python",
   "nbconvert_exporter": "python",
   "pygments_lexer": "ipython3",
   "version": "3.5.2"
  },
  "orig_nbformat": 4,
  "vscode": {
   "interpreter": {
    "hash": "31f2aee4e71d21fbe5cf8b01ff0e069b9275f58929596ceb00d14d90e3e16cd6"
   }
  }
 },
 "nbformat": 4,
 "nbformat_minor": 2
}
